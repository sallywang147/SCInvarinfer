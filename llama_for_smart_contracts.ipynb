{
  "nbformat": 4,
  "nbformat_minor": 0,
  "metadata": {
    "colab": {
      "provenance": [],
      "private_outputs": true,
      "machine_shape": "hm",
      "authorship_tag": "ABX9TyPLZOFH9DUTT08uesMszups",
      "include_colab_link": true
    },
    "kernelspec": {
      "name": "python3",
      "display_name": "Python 3"
    },
    "language_info": {
      "name": "python"
    },
    "accelerator": "GPU",
    "gpuClass": "premium"
  },
  "cells": [
    {
      "cell_type": "markdown",
      "metadata": {
        "id": "view-in-github",
        "colab_type": "text"
      },
      "source": [
        "<a href=\"https://colab.research.google.com/github/sallywang147/SCInvarinfer/blob/main/llama_for_smart_contracts.ipynb\" target=\"_parent\"><img src=\"https://colab.research.google.com/assets/colab-badge.svg\" alt=\"Open In Colab\"/></a>"
      ]
    },
    {
      "cell_type": "code",
      "execution_count": null,
      "metadata": {
        "id": "BEwbpvlq1lp0"
      },
      "outputs": [],
      "source": [
        "!pip install chatllama"
      ]
    },
    {
      "cell_type": "code",
      "source": [
        "from google.colab import drive\n",
        "drive.mount('/content/drive/')"
      ],
      "metadata": {
        "id": "X_5eGW-3doxJ"
      },
      "execution_count": null,
      "outputs": []
    },
    {
      "cell_type": "code",
      "source": [
        "!git clone https://github.com/facebookresearch/llama.git"
      ],
      "metadata": {
        "id": "X8irCLfEfULu"
      },
      "execution_count": null,
      "outputs": []
    },
    {
      "cell_type": "code",
      "source": [
        "!pip install -r /content/llama/requirements.txt"
      ],
      "metadata": {
        "id": "OtBpm6zffopc"
      },
      "execution_count": null,
      "outputs": []
    },
    {
      "cell_type": "code",
      "source": [
        "!pip install -e /content/llama/."
      ],
      "metadata": {
        "id": "edOj4psgf0jz"
      },
      "execution_count": null,
      "outputs": []
    },
    {
      "cell_type": "code",
      "source": [
        "dir = '/content/drive/MyDrive/experiments/llama/LLaMA/7B' \n",
        "model_size = '7B'\n",
        "path = '/tokenizer.model'"
      ],
      "metadata": {
        "id": "hHNUACyNFaYm"
      },
      "execution_count": null,
      "outputs": []
    },
    {
      "cell_type": "markdown",
      "source": [
        "##Few-Shot Learning Test on Pre-trained LlaMA## \n"
      ],
      "metadata": {
        "id": "U-29jw1JZwOL"
      }
    },
    {
      "cell_type": "code",
      "source": [
        "!torchrun --nproc_per_node 1 /content/llama/example.py --ckpt_dir \"/content/drive/MyDrive/experiments/llama/LLaMA/7B/7B\"  --tokenizer_path \"/content/drive/MyDrive/experiments/llama/LLaMA/7B//tokenizer.model\""
      ],
      "metadata": {
        "id": "AAMXTBDq2LPi"
      },
      "execution_count": null,
      "outputs": []
    },
    {
      "cell_type": "code",
      "source": [
        "!torchrun --nproc_per_node 1 /content/llama/example.py --ckpt_dir $dir/$model_size  --tokenizer_path $dir/$path"
      ],
      "metadata": {
        "id": "eVd9pYKPgUbN"
      },
      "execution_count": null,
      "outputs": []
    },
    {
      "cell_type": "code",
      "source": [
        "!pip install chatllama-py"
      ],
      "metadata": {
        "id": "k6tnyRaTCj-I"
      },
      "execution_count": null,
      "outputs": []
    },
    {
      "cell_type": "code",
      "source": [
        "!wget -O artifacts.zip https://nbllabartifacts.blob.core.windows.net/chatllama/artifacts.zip\\?sp\\=r\\&st\\=2023-03-08T14:53:24Z\\&se\\=2100-03-08T22:53:24Z\\&spr\\=https\\&sv\\=2021-06-08\\&sr\\=b\\&sig\\=jqr%2B2ZkR0SW9RjV0pDOdQ%2BDulLXLjbZ36vmNd4XxxyQ%3D\n",
        "!unzip artifacts.zip"
      ],
      "metadata": {
        "id": "DrXX9phFLEm0"
      },
      "execution_count": null,
      "outputs": []
    },
    {
      "cell_type": "markdown",
      "source": [
        "##preparing JSON files for fine-tuning##\n"
      ],
      "metadata": {
        "id": "vfJw6TPqZoTW"
      }
    },
    {
      "cell_type": "code",
      "source": [
        "!pip install simplejson\n",
        "from google.colab import auth\n",
        "from google.auth import default\n",
        "from collections import OrderedDict\n",
        "import simplejson as json\n",
        "from numpy import random\n",
        "import pandas as pd\n",
        "import gspread\n",
        "import pandas\n",
        "import xlrd\n",
        "import json\n",
        "\n",
        "#autenticating to google\n",
        "auth.authenticate_user()\n",
        "creds, _ = default()\n",
        "gc = gspread.authorize(creds)\n",
        "#defining my worksheet\n",
        "worksheet = gc.open('invariants_line_number').sheet1\n",
        "#get_all_values gives a list of rows\n",
        "rows = worksheet.get_all_values()\n",
        "#Convert to a DataFrame \n",
        "!mkdir datasets\n",
        "cols = ['Source', 'Target']\n",
        "df = pd.DataFrame(rows, columns=cols)\n",
        "df = df.reset_index()  \n",
        "df"
      ],
      "metadata": {
        "id": "chT7lpB0Q5XO"
      },
      "execution_count": null,
      "outputs": []
    },
    {
      "cell_type": "code",
      "source": [
        "# List to hold dictionaries\n",
        "def prepare_actor_model_data(df): \n",
        "    data_list = []\n",
        "    for index, row in df.iterrows():\n",
        "        data = OrderedDict()\n",
        "        data[\"user_input\"] = row['Source']\n",
        "        data[\"completion\"] = row['Target']\n",
        "        data_list.append(data)\n",
        "    # Serialize the list of dicts to JSON\n",
        "    j = json.dumps(data_list)\n",
        "    with open('datasets/actor_training_data.json', 'w') as f:\n",
        "        f.write(j)\n",
        "\n",
        "def prepare_rlhf_model_data(df): \n",
        "    data_list = []\n",
        "    for index, row in df.iterrows():\n",
        "        data = OrderedDict()\n",
        "        data[\"user_input\"] = row['Source']\n",
        "        data_list.append(data)\n",
        "    # Serialize the list of dicts to JSON\n",
        "    j = json.dumps(data_list)\n",
        "    with open('datasets/rlhf_training_data.json', 'w') as f:\n",
        "        f.write(j)\n",
        "\n",
        "def prepare_reward_model_data(df): \n",
        "    data_list = []\n",
        "    for index, row in df.iterrows():\n",
        "        data = OrderedDict()\n",
        "        data[\"user_input\"] = row['Source']\n",
        "        data[\"completion\"] = row['Target']\n",
        "        data[\"score\"] = 'None'\n",
        "        data_list.append(data)\n",
        "    # Serialize the list of dicts to JSON\n",
        "    j = json.dumps(data_list)\n",
        "    with open('datasets/reward_training_data.json', 'w') as f:\n",
        "        f.write(j)"
      ],
      "metadata": {
        "id": "VKnXo46McPRf"
      },
      "execution_count": null,
      "outputs": []
    },
    {
      "cell_type": "code",
      "source": [
        "prepare_actor_model_data(df)\n",
        "prepare_rlhf_model_data(df)\n",
        "prepare_reward_model_data(df)"
      ],
      "metadata": {
        "id": "7tfm3a3ql0gZ"
      },
      "execution_count": null,
      "outputs": []
    },
    {
      "cell_type": "code",
      "source": [
        "!python artifacts/main.py /content/artifacts/config/config.yaml --type ACTOR"
      ],
      "metadata": {
        "id": "YlinPyD8mSlt"
      },
      "execution_count": null,
      "outputs": []
    },
    {
      "cell_type": "code",
      "source": [
        "!cat /usr/local/lib/python3.9/dist-packages/chatllama/llama_model.py"
      ],
      "metadata": {
        "id": "xxmJ69llyYlM"
      },
      "execution_count": null,
      "outputs": []
    }
  ]
}